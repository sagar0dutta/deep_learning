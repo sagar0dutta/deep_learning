{
 "cells": [
  {
   "cell_type": "code",
   "execution_count": null,
   "id": "c85a4feb",
   "metadata": {},
   "outputs": [],
   "source": [
    "#import Flask \n",
    "from flask import Flask, render_template, request\n",
    "#create an instance of Flask\n",
    "app = Flask(__name__)\n",
    "@app.route('/')\n",
    "def home():\n",
    "    return render_template('home.html')\n",
    "@app.route('/predict/', methods=['GET','POST'])\n",
    "def predict():\n",
    "    if request.method == \"POST\":\n",
    "        #get form data\n",
    "        tv = request.form.get('tv')\n",
    "        radio = request.form.get('radio')\n",
    "        newspaper = request.form.get('newspaper')\n",
    "        #call preprocessDataAndPredict and pass inputs\n",
    "        try:\n",
    "            prediction = preprocessDataAndPredict(tv, radio, newspaper)\n",
    "            #pass prediction to template\n",
    "            return render_template('predict.html', prediction = prediction)\n",
    "        except ValueError:\n",
    "            return \"Please Enter valid values\"\n",
    "        pass        \n",
    "    pass\n",
    "def preprocessDataAndPredict(tv, radio, newspaper):\n",
    "    #put all inputs in array\n",
    "    test_data = [tv, radio, newspaper]\n",
    "    print(test_data)\n",
    "    #convert value data into numpy array and type float\n",
    "    test_data = np.array(test_data).astype(np.float) \n",
    "    #reshape array\n",
    "    test_data = test_data.reshape(1,-1)\n",
    "    print(test_data)\n",
    "    #open file\n",
    "    file = open(\"lr_model.pkl\",\"rb\")\n",
    "    #load trained model\n",
    "    trained_model = joblib.load(file)\n",
    "    #predict\n",
    "    prediction = trained_model.predict(test_data)\n",
    "    return prediction\n",
    "    pass\n",
    "if __name__ == '__main__':\n",
    "    app.run(debug=True)"
   ]
  }
 ],
 "metadata": {
  "kernelspec": {
   "display_name": "Python 3 (ipykernel)",
   "language": "python",
   "name": "python3"
  },
  "language_info": {
   "codemirror_mode": {
    "name": "ipython",
    "version": 3
   },
   "file_extension": ".py",
   "mimetype": "text/x-python",
   "name": "python",
   "nbconvert_exporter": "python",
   "pygments_lexer": "ipython3",
   "version": "3.9.7"
  }
 },
 "nbformat": 4,
 "nbformat_minor": 5
}
